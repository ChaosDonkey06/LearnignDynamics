{
 "cells": [
  {
   "cell_type": "code",
   "execution_count": 6,
   "metadata": {},
   "outputs": [],
   "source": [
    "import pandas as pd\n",
    "import numpy as np"
   ]
  },
  {
   "cell_type": "markdown",
   "metadata": {},
   "source": [
    "# Example 01"
   ]
  },
  {
   "cell_type": "code",
   "execution_count": 10,
   "metadata": {},
   "outputs": [],
   "source": [
    "polyorder = 5;                               # Search space up to fifth order polynomials\n",
    "usesine   = 0;                               # No trig functions\n",
    "n         = 2;                               # 2D system\n",
    "A         = np.array([[-0.1, 2], [-2, -0.1]]) # Dynamics\n",
    "\n",
    "def model_rhs(x, A):\n",
    "    \"\"\" Linear model\n",
    "    Returns:\n",
    "        _type_: Return derivatives of linear model\n",
    "    \"\"\"\n",
    "    return np.dot(A, x)\n",
    "\n",
    "tspan  = list(np.arange(0, 25+0.01, 0.01)) # Time span\n",
    "x0     = [2, 0];                           # Initial conditions"
   ]
  },
  {
   "cell_type": "code",
   "execution_count": null,
   "metadata": {},
   "outputs": [],
   "source": []
  }
 ],
 "metadata": {
  "kernelspec": {
   "display_name": "Python 3.8.2 ('base')",
   "language": "python",
   "name": "python3"
  },
  "language_info": {
   "codemirror_mode": {
    "name": "ipython",
    "version": 3
   },
   "file_extension": ".py",
   "mimetype": "text/x-python",
   "name": "python",
   "nbconvert_exporter": "python",
   "pygments_lexer": "ipython3",
   "version": "3.8.2"
  },
  "orig_nbformat": 4,
  "vscode": {
   "interpreter": {
    "hash": "574dadffd7a64c0fd8dffb1c55414219139ca02322c8f7cd93c896672936a7f7"
   }
  }
 },
 "nbformat": 4,
 "nbformat_minor": 2
}
